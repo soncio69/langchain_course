{
 "cells": [
  {
   "cell_type": "markdown",
   "id": "ae4ed605",
   "metadata": {},
   "source": [
    "### Predisposizione evironment\n",
    "\n",
    "Creato un nuovo conda environment\n",
    "\n",
    "`conda create -n langchain_env python`<br>\n",
    "`conda activate langchain_env`\n",
    "\n",
    "e fatto in modo che questo env sia \"visto\" dal jupyter notebook:\n",
    "\n",
    " `pip install ipykernel` <br>\n",
    " `python -m ipykernel install --user --name langchain_env --display-name \"langchain_env\"`\n",
    "\n"
   ]
  },
  {
   "cell_type": "code",
   "execution_count": 1,
   "id": "0c48ede0",
   "metadata": {},
   "outputs": [
    {
     "name": "stdout",
     "output_type": "stream",
     "text": [
      "Collecting openai\n",
      "  Downloading openai-1.23.2-py3-none-any.whl (311 kB)\n",
      "\u001b[K     |████████████████████████████████| 311 kB 2.5 MB/s eta 0:00:01\n",
      "\u001b[?25hCollecting langchain\n",
      "  Downloading langchain-0.1.16-py3-none-any.whl (817 kB)\n",
      "\u001b[K     |████████████████████████████████| 817 kB 3.6 MB/s eta 0:00:01\n",
      "\u001b[?25hCollecting pinecone-client\n",
      "  Downloading pinecone_client-3.2.2-py3-none-any.whl (215 kB)\n",
      "\u001b[K     |████████████████████████████████| 215 kB 6.5 MB/s eta 0:00:01\n",
      "\u001b[?25hCollecting python-dotenv\n",
      "  Downloading python_dotenv-1.0.1-py3-none-any.whl (19 kB)\n",
      "Collecting tiktoken\n",
      "  Downloading tiktoken-0.6.0-cp39-cp39-manylinux_2_17_x86_64.manylinux2014_x86_64.whl (1.8 MB)\n",
      "\u001b[K     |████████████████████████████████| 1.8 MB 5.4 MB/s eta 0:00:01\n",
      "\u001b[?25hCollecting docx2txt\n",
      "  Downloading docx2txt-0.8.tar.gz (2.8 kB)\n",
      "Collecting pypdf\n",
      "  Downloading pypdf-4.2.0-py3-none-any.whl (290 kB)\n",
      "\u001b[K     |████████████████████████████████| 290 kB 6.3 MB/s eta 0:00:01\n",
      "\u001b[?25hRequirement already satisfied: requests in /home/michele/anaconda3/lib/python3.9/site-packages (from -r ./requirements.txt (line 8)) (2.26.0)\n",
      "Requirement already satisfied: pandas in /home/michele/anaconda3/lib/python3.9/site-packages (from -r ./requirements.txt (line 9)) (1.3.4)\n",
      "Collecting aiohttp\n",
      "  Downloading aiohttp-3.9.5-cp39-cp39-manylinux_2_17_x86_64.manylinux2014_x86_64.whl (1.2 MB)\n",
      "\u001b[K     |████████████████████████████████| 1.2 MB 4.3 MB/s eta 0:00:01\n",
      "\u001b[?25hRequirement already satisfied: PyYAML in /home/michele/anaconda3/lib/python3.9/site-packages (from -r ./requirements.txt (line 11)) (6.0)\n",
      "Requirement already satisfied: numpy in /home/michele/anaconda3/lib/python3.9/site-packages (from -r ./requirements.txt (line 12)) (1.26.0)\n",
      "Requirement already satisfied: tqdm>4 in /home/michele/anaconda3/lib/python3.9/site-packages (from openai->-r ./requirements.txt (line 1)) (4.62.3)\n",
      "Collecting distro<2,>=1.7.0\n",
      "  Downloading distro-1.9.0-py3-none-any.whl (20 kB)\n",
      "Collecting anyio<5,>=3.5.0\n",
      "  Downloading anyio-4.3.0-py3-none-any.whl (85 kB)\n",
      "\u001b[K     |████████████████████████████████| 85 kB 373 kB/s eta 0:00:01\n",
      "\u001b[?25hCollecting pydantic<3,>=1.9.0\n",
      "  Downloading pydantic-2.7.0-py3-none-any.whl (407 kB)\n",
      "\u001b[K     |████████████████████████████████| 407 kB 6.9 MB/s eta 0:00:01\n",
      "\u001b[?25hCollecting typing-extensions<5,>=4.7\n",
      "  Downloading typing_extensions-4.11.0-py3-none-any.whl (34 kB)\n",
      "Collecting httpx<1,>=0.23.0\n",
      "  Downloading httpx-0.27.0-py3-none-any.whl (75 kB)\n",
      "\u001b[K     |████████████████████████████████| 75 kB 509 kB/s eta 0:00:011\n",
      "\u001b[?25hRequirement already satisfied: sniffio in /home/michele/anaconda3/lib/python3.9/site-packages (from openai->-r ./requirements.txt (line 1)) (1.2.0)\n",
      "Collecting langchain-text-splitters<0.1,>=0.0.1\n",
      "  Downloading langchain_text_splitters-0.0.1-py3-none-any.whl (21 kB)\n",
      "Collecting tenacity<9.0.0,>=8.1.0\n",
      "  Downloading tenacity-8.2.3-py3-none-any.whl (24 kB)\n",
      "Collecting async-timeout<5.0.0,>=4.0.0\n",
      "  Downloading async_timeout-4.0.3-py3-none-any.whl (5.7 kB)\n",
      "Collecting dataclasses-json<0.7,>=0.5.7\n",
      "  Downloading dataclasses_json-0.6.4-py3-none-any.whl (28 kB)\n",
      "Requirement already satisfied: SQLAlchemy<3,>=1.4 in /home/michele/anaconda3/lib/python3.9/site-packages (from langchain->-r ./requirements.txt (line 2)) (1.4.22)\n",
      "Collecting langchain-community<0.1,>=0.0.32\n",
      "  Downloading langchain_community-0.0.34-py3-none-any.whl (1.9 MB)\n",
      "\u001b[K     |████████████████████████████████| 1.9 MB 7.2 MB/s eta 0:00:01\n",
      "\u001b[?25hCollecting jsonpatch<2.0,>=1.33\n",
      "  Downloading jsonpatch-1.33-py2.py3-none-any.whl (12 kB)\n",
      "Collecting langsmith<0.2.0,>=0.1.17\n",
      "  Downloading langsmith-0.1.49-py3-none-any.whl (115 kB)\n",
      "\u001b[K     |████████████████████████████████| 115 kB 4.4 MB/s eta 0:00:01\n",
      "\u001b[?25hCollecting langchain-core<0.2.0,>=0.1.42\n",
      "  Downloading langchain_core-0.1.45-py3-none-any.whl (291 kB)\n",
      "\u001b[K     |████████████████████████████████| 291 kB 7.6 MB/s eta 0:00:01\n",
      "\u001b[?25hRequirement already satisfied: urllib3>=1.26.0 in /home/michele/anaconda3/lib/python3.9/site-packages (from pinecone-client->-r ./requirements.txt (line 3)) (1.26.7)\n",
      "Collecting tqdm>4\n",
      "  Downloading tqdm-4.66.2-py3-none-any.whl (78 kB)\n",
      "\u001b[K     |████████████████████████████████| 78 kB 742 kB/s eta 0:00:01\n",
      "\u001b[?25hRequirement already satisfied: certifi>=2019.11.17 in /home/michele/anaconda3/lib/python3.9/site-packages (from pinecone-client->-r ./requirements.txt (line 3)) (2021.10.8)\n",
      "Collecting regex>=2022.1.18\n",
      "  Downloading regex-2024.4.16-cp39-cp39-manylinux_2_17_x86_64.manylinux2014_x86_64.whl (773 kB)\n",
      "\u001b[K     |████████████████████████████████| 773 kB 4.4 MB/s eta 0:00:01\n",
      "\u001b[?25hRequirement already satisfied: charset-normalizer~=2.0.0 in /home/michele/anaconda3/lib/python3.9/site-packages (from requests->-r ./requirements.txt (line 8)) (2.0.4)\n",
      "Requirement already satisfied: idna<4,>=2.5 in /home/michele/anaconda3/lib/python3.9/site-packages (from requests->-r ./requirements.txt (line 8)) (3.2)\n",
      "Requirement already satisfied: python-dateutil>=2.7.3 in /home/michele/anaconda3/lib/python3.9/site-packages (from pandas->-r ./requirements.txt (line 9)) (2.8.2)\n",
      "Requirement already satisfied: pytz>=2017.3 in /home/michele/anaconda3/lib/python3.9/site-packages (from pandas->-r ./requirements.txt (line 9)) (2021.3)\n",
      "Collecting aiosignal>=1.1.2\n",
      "  Downloading aiosignal-1.3.1-py3-none-any.whl (7.6 kB)\n",
      "Requirement already satisfied: attrs>=17.3.0 in /home/michele/anaconda3/lib/python3.9/site-packages (from aiohttp->-r ./requirements.txt (line 10)) (21.2.0)\n",
      "Collecting yarl<2.0,>=1.0\n",
      "  Downloading yarl-1.9.4-cp39-cp39-manylinux_2_17_x86_64.manylinux2014_x86_64.whl (304 kB)\n",
      "\u001b[K     |████████████████████████████████| 304 kB 4.8 MB/s eta 0:00:01\n",
      "\u001b[?25hCollecting multidict<7.0,>=4.5\n",
      "  Downloading multidict-6.0.5-cp39-cp39-manylinux_2_17_x86_64.manylinux2014_x86_64.whl (123 kB)\n",
      "\u001b[K     |████████████████████████████████| 123 kB 6.1 MB/s eta 0:00:01\n",
      "\u001b[?25hCollecting frozenlist>=1.1.1\n",
      "  Downloading frozenlist-1.4.1-cp39-cp39-manylinux_2_5_x86_64.manylinux1_x86_64.manylinux_2_17_x86_64.manylinux2014_x86_64.whl (240 kB)\n",
      "\u001b[K     |████████████████████████████████| 240 kB 6.2 MB/s eta 0:00:01\n",
      "\u001b[?25hCollecting exceptiongroup>=1.0.2\n",
      "  Downloading exceptiongroup-1.2.1-py3-none-any.whl (16 kB)\n",
      "Collecting marshmallow<4.0.0,>=3.18.0\n",
      "  Downloading marshmallow-3.21.1-py3-none-any.whl (49 kB)\n",
      "\u001b[K     |████████████████████████████████| 49 kB 844 kB/s eta 0:00:011\n",
      "\u001b[?25hCollecting typing-inspect<1,>=0.4.0\n",
      "  Downloading typing_inspect-0.9.0-py3-none-any.whl (8.8 kB)\n",
      "Collecting httpcore==1.*\n",
      "  Downloading httpcore-1.0.5-py3-none-any.whl (77 kB)\n",
      "\u001b[K     |████████████████████████████████| 77 kB 835 kB/s eta 0:00:01\n",
      "\u001b[?25hCollecting h11<0.15,>=0.13\n",
      "  Downloading h11-0.14.0-py3-none-any.whl (58 kB)\n",
      "\u001b[K     |████████████████████████████████| 58 kB 829 kB/s eta 0:00:01\n",
      "\u001b[?25hCollecting jsonpointer>=1.9\n",
      "  Downloading jsonpointer-2.4-py2.py3-none-any.whl (7.8 kB)\n",
      "Collecting packaging<24.0,>=23.2\n",
      "  Using cached packaging-23.2-py3-none-any.whl (53 kB)\n",
      "Collecting orjson<4.0.0,>=3.9.14\n",
      "  Downloading orjson-3.10.1-cp39-cp39-manylinux_2_17_x86_64.manylinux2014_x86_64.whl (140 kB)\n",
      "\u001b[K     |████████████████████████████████| 140 kB 7.2 MB/s eta 0:00:01\n",
      "\u001b[?25hCollecting annotated-types>=0.4.0\n",
      "  Downloading annotated_types-0.6.0-py3-none-any.whl (12 kB)\n",
      "Collecting pydantic-core==2.18.1\n",
      "  Downloading pydantic_core-2.18.1-cp39-cp39-manylinux_2_17_x86_64.manylinux2014_x86_64.whl (2.1 MB)\n",
      "\u001b[K     |████████████████████████████████| 2.1 MB 5.3 MB/s eta 0:00:01\n",
      "\u001b[?25hRequirement already satisfied: six>=1.5 in /home/michele/anaconda3/lib/python3.9/site-packages (from python-dateutil>=2.7.3->pandas->-r ./requirements.txt (line 9)) (1.16.0)\n",
      "Requirement already satisfied: greenlet!=0.4.17 in /home/michele/anaconda3/lib/python3.9/site-packages (from SQLAlchemy<3,>=1.4->langchain->-r ./requirements.txt (line 2)) (1.1.1)\n",
      "Requirement already satisfied: mypy-extensions>=0.3.0 in /home/michele/anaconda3/lib/python3.9/site-packages (from typing-inspect<1,>=0.4.0->dataclasses-json<0.7,>=0.5.7->langchain->-r ./requirements.txt (line 2)) (0.4.3)\n",
      "Building wheels for collected packages: docx2txt\n",
      "  Building wheel for docx2txt (setup.py) ... \u001b[?25ldone\n",
      "\u001b[?25h  Created wheel for docx2txt: filename=docx2txt-0.8-py3-none-any.whl size=3980 sha256=b621650b86352a3f115321e4cac30bfa0a48e8d4752bef4987c42d4d6aadd763\n",
      "  Stored in directory: /home/michele/.cache/pip/wheels/40/75/01/e6c444034338bde9c7947d3467807f889123465c2371e77418\n",
      "Successfully built docx2txt\n"
     ]
    },
    {
     "name": "stdout",
     "output_type": "stream",
     "text": [
      "Installing collected packages: typing-extensions, pydantic-core, annotated-types, pydantic, packaging, orjson, multidict, jsonpointer, frozenlist, yarl, typing-inspect, tenacity, marshmallow, langsmith, jsonpatch, h11, exceptiongroup, async-timeout, aiosignal, langchain-core, httpcore, dataclasses-json, anyio, aiohttp, tqdm, regex, langchain-text-splitters, langchain-community, httpx, distro, tiktoken, python-dotenv, pypdf, pinecone-client, openai, langchain, docx2txt\n",
      "  Attempting uninstall: typing-extensions\n",
      "    Found existing installation: typing-extensions 3.10.0.2\n",
      "    Uninstalling typing-extensions-3.10.0.2:\n",
      "      Successfully uninstalled typing-extensions-3.10.0.2\n",
      "  Attempting uninstall: packaging\n",
      "    Found existing installation: packaging 21.0\n",
      "    Uninstalling packaging-21.0:\n",
      "      Successfully uninstalled packaging-21.0\n",
      "  Attempting uninstall: anyio\n",
      "    Found existing installation: anyio 2.2.0\n",
      "    Uninstalling anyio-2.2.0:\n",
      "      Successfully uninstalled anyio-2.2.0\n",
      "  Attempting uninstall: tqdm\n",
      "    Found existing installation: tqdm 4.62.3\n",
      "    Uninstalling tqdm-4.62.3:\n",
      "      Successfully uninstalled tqdm-4.62.3\n",
      "  Attempting uninstall: regex\n",
      "    Found existing installation: regex 2021.8.3\n",
      "    Uninstalling regex-2021.8.3:\n",
      "      Successfully uninstalled regex-2021.8.3\n",
      "Successfully installed aiohttp-3.9.5 aiosignal-1.3.1 annotated-types-0.6.0 anyio-4.3.0 async-timeout-4.0.3 dataclasses-json-0.6.4 distro-1.9.0 docx2txt-0.8 exceptiongroup-1.2.1 frozenlist-1.4.1 h11-0.14.0 httpcore-1.0.5 httpx-0.27.0 jsonpatch-1.33 jsonpointer-2.4 langchain-0.1.16 langchain-community-0.0.34 langchain-core-0.1.45 langchain-text-splitters-0.0.1 langsmith-0.1.49 marshmallow-3.21.1 multidict-6.0.5 openai-1.23.2 orjson-3.10.1 packaging-23.2 pinecone-client-3.2.2 pydantic-2.7.0 pydantic-core-2.18.1 pypdf-4.2.0 python-dotenv-1.0.1 regex-2024.4.16 tenacity-8.2.3 tiktoken-0.6.0 tqdm-4.66.2 typing-extensions-4.11.0 typing-inspect-0.9.0 yarl-1.9.4\n"
     ]
    }
   ],
   "source": [
    "!pip install -r ./requirements.txt"
   ]
  },
  {
   "cell_type": "markdown",
   "id": "16a1ba2f",
   "metadata": {},
   "source": [
    "E' stato necessario installa dotenv con questo comando in quanto pip install da requirements non era sufficiente:\n",
    "\n",
    "`python -m pip install python-dotenv`\n",
    "\n",
    "Per visualizzare la versione dei package installati"
   ]
  },
  {
   "cell_type": "code",
   "execution_count": 6,
   "id": "bca57e28",
   "metadata": {},
   "outputs": [
    {
     "name": "stdout",
     "output_type": "stream",
     "text": [
      "Name: python-dotenv\r\n",
      "Version: 1.0.1\r\n",
      "Summary: Read key-value pairs from a .env file and set them as environment variables\r\n",
      "Home-page: https://github.com/theskumar/python-dotenv\r\n",
      "Author: Saurabh Kumar\r\n",
      "Author-email: me+github@saurabh-kumar.com\r\n",
      "License: BSD-3-Clause\r\n",
      "Location: /home/michele/anaconda3/lib/python3.9/site-packages\r\n",
      "Requires: \r\n",
      "Required-by: \r\n"
     ]
    }
   ],
   "source": [
    "!pip show python-dotenv\n"
   ]
  },
  {
   "cell_type": "markdown",
   "id": "69184d96",
   "metadata": {},
   "source": [
    "### Utilizzo di dotenv \n",
    "\n",
    "Per importare da un file di testo (chiamato .env) e presente sul file le variabili di ambiente con le chiavi API necessarie, si utilizza il package python-dotenv"
   ]
  },
  {
   "cell_type": "code",
   "execution_count": 6,
   "id": "017b280f",
   "metadata": {},
   "outputs": [],
   "source": [
    "import os\n",
    "from dotenv import load_dotenv, find_dotenv"
   ]
  },
  {
   "cell_type": "code",
   "execution_count": 7,
   "id": "e29ca089",
   "metadata": {},
   "outputs": [
    {
     "data": {
      "text/plain": [
       "'sk-proj-5Zqj9vu4FilJOGZDimAAT3BlbkFJKTmFk1QUc6IENugzhv0q'"
      ]
     },
     "execution_count": 7,
     "metadata": {},
     "output_type": "execute_result"
    }
   ],
   "source": [
    "load_dotenv(find_dotenv(), override=True)\n",
    "\n",
    "os.environ.get('OPENAI_API_KEY')"
   ]
  },
  {
   "cell_type": "code",
   "execution_count": null,
   "id": "b64c3d94",
   "metadata": {},
   "outputs": [],
   "source": []
  }
 ],
 "metadata": {
  "kernelspec": {
   "display_name": "langchain_env",
   "language": "python",
   "name": "langchain_env"
  },
  "language_info": {
   "codemirror_mode": {
    "name": "ipython",
    "version": 3
   },
   "file_extension": ".py",
   "mimetype": "text/x-python",
   "name": "python",
   "nbconvert_exporter": "python",
   "pygments_lexer": "ipython3",
   "version": "3.12.3"
  }
 },
 "nbformat": 4,
 "nbformat_minor": 5
}
