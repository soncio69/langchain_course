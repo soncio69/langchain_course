{
 "cells": [
  {
   "cell_type": "markdown",
   "id": "15d3840f",
   "metadata": {},
   "source": [
    "### Langchain e llamacpp\n",
    "Esempio di utilizzo di langchain invocando un modello \"locale\" grazie a llamacpp.\n",
    "E' necessario lanciare il server OPENAI utilizzando le istruzioni presenti nel repo llamacpp.\n",
    "\n",
    "Grazie a llamacpp è possibile simulare \"in locale\" un server compatibile con le API OpenAI (vedi http://localhost:8000/docs)"
   ]
  },
  {
   "cell_type": "code",
   "execution_count": 1,
   "id": "c4381c47",
   "metadata": {},
   "outputs": [],
   "source": [
    "from langchain_openai import ChatOpenAI"
   ]
  },
  {
   "cell_type": "code",
   "execution_count": 6,
   "id": "fa158b97",
   "metadata": {},
   "outputs": [],
   "source": [
    "llm = ChatOpenAI(\n",
    "        api_key='545454545',\n",
    "        base_url='http://localhost:8000/v1'\n",
    "    )\n"
   ]
  },
  {
   "cell_type": "code",
   "execution_count": 11,
   "id": "b8d9c729",
   "metadata": {},
   "outputs": [
    {
     "name": "stdout",
     "output_type": "stream",
     "text": [
      " Spiegami la meccanica quantistica è una richiesta molto ambiziosa che sarebbe necessaria un'intera opera. Tuttavia, io ti porterò in una breve introduzione alla materia.\n",
      "\n",
      "La meccanica quantistica è una teoria matematica e fisica che descrive il comportamento dei sistemi fisici a microscopico e per questo motivo può essere applicata anche ai macroscopici. Essa fu sviluppata dall'italiano Niels Bohr nella prima metà del XX secolo e poi ulteriormente sviluppata da Werner Heisenberg, Erwin Schrödinger, Paul Dirac e altri fisici.\n",
      "\n",
      "La meccanica quantistica ha come base due principi fondamentali: la teoria di uncertainty ed il principio di superposizione. La teoria di uncertainty è stato sviluppata da Werner Heisenberg e afferma che non può essere determinato, in una certa misura, sia l'energia che la posizione di un particolare fermione o bosone. Il principio di superposizione afferma che ogni sistema fisico è descritto dalla sua funzione d'onda, che è una funzione matematica che descrive il comportamento del sistema allo stato quantistico.\n",
      "\n",
      "La meccanica quantistica ha avuto un impatto enorme in molte discipline scientifiche, come l'astronomia, la chimica e la fisica. Ha permesso, ad esempio, di comprendere la natura dell'energia atomica e delle particelle subatomiche, il comportamento degli elettroni in un cristallo, il funzionamento dei semiconduttori e molti altri fenomeni scientifici.\n",
      "\n",
      "La meccanica quantistica è una teoria molto complessa che ha ancora molti aspetti non risolti e che continua ad evolversi. Tuttavia, la sua importanza nel campo della fisica moderna è indiscutibile.\n"
     ]
    }
   ],
   "source": [
    "output = llm.invoke(\"Spiegami la meccanica quantistica\")\n",
    "print(output.content)"
   ]
  },
  {
   "cell_type": "code",
   "execution_count": 8,
   "id": "c9cda61b",
   "metadata": {},
   "outputs": [
    {
     "name": "stdout",
     "output_type": "stream",
     "text": [
      " La meccanica quantistica è una disciplina scientifica che studia i fenomeni fisici a livello atomico e subatomico. Essa deriva dalla teoria delle onde e della relatività, ed è stata sviluppata nel corso del XX secolo per spiegare le proprietà dei subatomi e dell'interazione tra essi.\n",
      "\n",
      "La meccanica quantistica introduce la concezione di particelle minime indivisibili, che possono essere in più stati allo stesso tempo (superposizione) e si possono trasformare l'una nell'altra (interazione). Questa teoria descrive anche il comportamento dei fotoni (quanti di energia), che sono i fotoni e le particelle elementari antiprotone e protone.\n",
      "\n",
      "La meccanica quantistica è utilizzata in molte aree di ricerca, tra cui la fisica delle particelle e la cosmologia.\n"
     ]
    }
   ],
   "source": [
    "from langchain.schema import (\n",
    "    SystemMessage,\n",
    "    AIMessage,\n",
    "    HumanMessage)\n",
    "\n",
    "messages =[\n",
    "    SystemMessage(content=\"you are a fhisician and respond only in italian\"),\n",
    "    HumanMessage(content=\"Spiegami la meccanica quantistica\")\n",
    "]\n",
    "\n",
    "output = llm.invoke(messages)\n",
    "print(output.content)"
   ]
  },
  {
   "cell_type": "markdown",
   "id": "cf68bb7e",
   "metadata": {},
   "source": [
    "Per gestire la risposta con lo streaminig"
   ]
  },
  {
   "cell_type": "code",
   "execution_count": 9,
   "id": "8d92b92b",
   "metadata": {},
   "outputs": [
    {
     "name": "stdout",
     "output_type": "stream",
     "text": [
      " Sure! I am a language model trained by Mistral AI, a cutting-edge company from France. My goal is to help people find information and answer their questions in the best possible way. I have access to a vast amount of data and can understand natural language, so feel free to ask me anything you like!"
     ]
    }
   ],
   "source": [
    "chunks = []\n",
    "async for chunk in llm.astream(\"hello. tell me something about yourself\"):\n",
    "    chunks.append(chunk)\n",
    "    print(chunk.content, end=\"\", flush=True)"
   ]
  },
  {
   "cell_type": "code",
   "execution_count": null,
   "id": "665816e8",
   "metadata": {},
   "outputs": [],
   "source": []
  }
 ],
 "metadata": {
  "kernelspec": {
   "display_name": "langchain_env",
   "language": "python",
   "name": "langchain_env"
  },
  "language_info": {
   "codemirror_mode": {
    "name": "ipython",
    "version": 3
   },
   "file_extension": ".py",
   "mimetype": "text/x-python",
   "name": "python",
   "nbconvert_exporter": "python",
   "pygments_lexer": "ipython3",
   "version": "3.12.3"
  }
 },
 "nbformat": 4,
 "nbformat_minor": 5
}
