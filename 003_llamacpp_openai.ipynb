{
 "cells": [
  {
   "cell_type": "markdown",
   "id": "05484293",
   "metadata": {},
   "source": [
    "### Langchain e llamacpp\n",
    "Questo notebook contiene un esempio di utilizzo di langchain invocando un modello \"locale\" grazie a llamacpp.\n",
    "\n",
    "E' necessario lanciare il server OPENAI utilizzando le istruzioni presenti nel repo llamacpp.\n",
    "\n",
    "Grazie a llamacpp è possibile simulare \"in locale\" un server compatibile con le API OpenAI (vedi http://localhost:8000/docs)"
   ]
  },
  {
   "cell_type": "code",
   "execution_count": 1,
   "id": "8abe7ddd",
   "metadata": {},
   "outputs": [],
   "source": [
    "from langchain_openai import ChatOpenAI"
   ]
  },
  {
   "cell_type": "code",
   "execution_count": 6,
   "id": "b3b483ab",
   "metadata": {},
   "outputs": [],
   "source": [
    "llm = ChatOpenAI(\n",
    "        api_key='545454545',\n",
    "        base_url='http://localhost:8000/v1'\n",
    "    )\n"
   ]
  },
  {
   "cell_type": "code",
   "execution_count": 11,
   "id": "25ad9685",
   "metadata": {},
   "outputs": [
    {
     "name": "stdout",
     "output_type": "stream",
     "text": [
      " Spiegami la meccanica quantistica è una richiesta molto ambiziosa che sarebbe necessaria un'intera opera. Tuttavia, io ti porterò in una breve introduzione alla materia.\n",
      "\n",
      "La meccanica quantistica è una teoria matematica e fisica che descrive il comportamento dei sistemi fisici a microscopico e per questo motivo può essere applicata anche ai macroscopici. Essa fu sviluppata dall'italiano Niels Bohr nella prima metà del XX secolo e poi ulteriormente sviluppata da Werner Heisenberg, Erwin Schrödinger, Paul Dirac e altri fisici.\n",
      "\n",
      "La meccanica quantistica ha come base due principi fondamentali: la teoria di uncertainty ed il principio di superposizione. La teoria di uncertainty è stato sviluppata da Werner Heisenberg e afferma che non può essere determinato, in una certa misura, sia l'energia che la posizione di un particolare fermione o bosone. Il principio di superposizione afferma che ogni sistema fisico è descritto dalla sua funzione d'onda, che è una funzione matematica che descrive il comportamento del sistema allo stato quantistico.\n",
      "\n",
      "La meccanica quantistica ha avuto un impatto enorme in molte discipline scientifiche, come l'astronomia, la chimica e la fisica. Ha permesso, ad esempio, di comprendere la natura dell'energia atomica e delle particelle subatomiche, il comportamento degli elettroni in un cristallo, il funzionamento dei semiconduttori e molti altri fenomeni scientifici.\n",
      "\n",
      "La meccanica quantistica è una teoria molto complessa che ha ancora molti aspetti non risolti e che continua ad evolversi. Tuttavia, la sua importanza nel campo della fisica moderna è indiscutibile.\n"
     ]
    }
   ],
   "source": [
    "output = llm.invoke(\"Spiegami la meccanica quantistica\")\n",
    "print(output.content)"
   ]
  },
  {
   "cell_type": "code",
   "execution_count": 8,
   "id": "ff62ff40",
   "metadata": {},
   "outputs": [
    {
     "name": "stdout",
     "output_type": "stream",
     "text": [
      " La meccanica quantistica è una disciplina scientifica che studia i fenomeni fisici a livello atomico e subatomico. Essa deriva dalla teoria delle onde e della relatività, ed è stata sviluppata nel corso del XX secolo per spiegare le proprietà dei subatomi e dell'interazione tra essi.\n",
      "\n",
      "La meccanica quantistica introduce la concezione di particelle minime indivisibili, che possono essere in più stati allo stesso tempo (superposizione) e si possono trasformare l'una nell'altra (interazione). Questa teoria descrive anche il comportamento dei fotoni (quanti di energia), che sono i fotoni e le particelle elementari antiprotone e protone.\n",
      "\n",
      "La meccanica quantistica è utilizzata in molte aree di ricerca, tra cui la fisica delle particelle e la cosmologia.\n"
     ]
    }
   ],
   "source": [
    "from langchain.schema import (\n",
    "    SystemMessage,\n",
    "    AIMessage,\n",
    "    HumanMessage)\n",
    "\n",
    "messages =[\n",
    "    SystemMessage(content=\"you are a fhisician and respond only in italian\"),\n",
    "    HumanMessage(content=\"Spiegami la meccanica quantistica\")\n",
    "]\n",
    "\n",
    "output = llm.invoke(messages)\n",
    "print(output.content)"
   ]
  },
  {
   "cell_type": "markdown",
   "id": "14307a79",
   "metadata": {},
   "source": [
    "### Streaming\n",
    "Per gestire la risposta con lo streaminig"
   ]
  },
  {
   "cell_type": "code",
   "execution_count": 9,
   "id": "380e7f62",
   "metadata": {},
   "outputs": [
    {
     "name": "stdout",
     "output_type": "stream",
     "text": [
      " Sure! I am a language model trained by Mistral AI, a cutting-edge company from France. My goal is to help people find information and answer their questions in the best possible way. I have access to a vast amount of data and can understand natural language, so feel free to ask me anything you like!"
     ]
    }
   ],
   "source": [
    "chunks = []\n",
    "async for chunk in llm.astream(\"hello. tell me something about yourself\"):\n",
    "    chunks.append(chunk)\n",
    "    print(chunk.content, end=\"\", flush=True)"
   ]
  },
  {
   "cell_type": "markdown",
   "id": "e6e57a1c",
   "metadata": {},
   "source": [
    "### Caching\n",
    "\n",
    "In memory cache"
   ]
  },
  {
   "cell_type": "code",
   "execution_count": 15,
   "id": "6383000d",
   "metadata": {},
   "outputs": [],
   "source": [
    "from langchain.globals import set_llm_cache\n",
    "from langchain_openai import OpenAI\n",
    "\n",
    "llm = OpenAI(\n",
    "        api_key='545454545',\n",
    "        base_url='http://localhost:8000/v1'\n",
    "    )"
   ]
  },
  {
   "cell_type": "code",
   "execution_count": 16,
   "id": "90018986",
   "metadata": {},
   "outputs": [
    {
     "name": "stdout",
     "output_type": "stream",
     "text": [
      "CPU times: user 72.5 ms, sys: 4.01 ms, total: 76.5 ms\n",
      "Wall time: 11.6 s\n"
     ]
    },
    {
     "data": {
      "text/plain": [
       "'. Why did the tomato turn red? Because it saw the salad dressing!'"
      ]
     },
     "execution_count": 16,
     "metadata": {},
     "output_type": "execute_result"
    }
   ],
   "source": [
    "%%time\n",
    "from langchain.cache import InMemoryCache\n",
    "set_llm_cache(InMemoryCache())\n",
    "\n",
    "prompt = 'Tell me a joke that a toddler can understand'\n",
    "llm.invoke(prompt)"
   ]
  },
  {
   "cell_type": "code",
   "execution_count": 17,
   "id": "83dee4f1",
   "metadata": {},
   "outputs": [
    {
     "name": "stdout",
     "output_type": "stream",
     "text": [
      "CPU times: user 1.11 ms, sys: 274 µs, total: 1.39 ms\n",
      "Wall time: 1.42 ms\n"
     ]
    },
    {
     "data": {
      "text/plain": [
       "'. Why did the tomato turn red? Because it saw the salad dressing!'"
      ]
     },
     "execution_count": 17,
     "metadata": {},
     "output_type": "execute_result"
    }
   ],
   "source": [
    "%%time\n",
    "llm.invoke(prompt)"
   ]
  },
  {
   "cell_type": "code",
   "execution_count": 24,
   "id": "044d4fda",
   "metadata": {},
   "outputs": [
    {
     "name": "stdout",
     "output_type": "stream",
     "text": [
      "CPU times: user 14.3 ms, sys: 1.7 ms, total: 16 ms\n",
      "Wall time: 13.4 ms\n"
     ]
    },
    {
     "data": {
      "text/plain": [
       "'. Why did the chicken cross the road? To get to the other side! Why did the tomato turn red? Because it saw the salad dressing!'"
      ]
     },
     "execution_count": 24,
     "metadata": {},
     "output_type": "execute_result"
    }
   ],
   "source": [
    "%%time\n",
    "from langchain.cache import SQLiteCache\n",
    "set_llm_cache(SQLiteCache(database_path=\".langchain.db\"))\n",
    "\n",
    "\n",
    "prompt = 'Tell me a joke that a toddler can understand'\n",
    "llm.invoke(prompt)"
   ]
  },
  {
   "cell_type": "code",
   "execution_count": 25,
   "id": "c18b3007",
   "metadata": {},
   "outputs": [
    {
     "name": "stdout",
     "output_type": "stream",
     "text": [
      "CPU times: user 7.12 ms, sys: 0 ns, total: 7.12 ms\n",
      "Wall time: 5.53 ms\n"
     ]
    },
    {
     "data": {
      "text/plain": [
       "'. Why did the chicken cross the road? To get to the other side! Why did the tomato turn red? Because it saw the salad dressing!'"
      ]
     },
     "execution_count": 25,
     "metadata": {},
     "output_type": "execute_result"
    }
   ],
   "source": [
    "%%time\n",
    "llm.invoke(prompt)"
   ]
  },
  {
   "cell_type": "markdown",
   "id": "e99517f1",
   "metadata": {},
   "source": [
    "### Streaming"
   ]
  },
  {
   "cell_type": "code",
   "execution_count": 27,
   "id": "4fb37176",
   "metadata": {},
   "outputs": [],
   "source": [
    "llm = ChatOpenAI(\n",
    "        api_key='545454545',\n",
    "        base_url='http://localhost:8000/v1'\n",
    "    )"
   ]
  },
  {
   "cell_type": "code",
   "execution_count": 28,
   "id": "620b7c24",
   "metadata": {},
   "outputs": [
    {
     "name": "stdout",
     "output_type": "stream",
     "text": [
      " Once upon a time, there was a little girl named Lily who loved nothing more than to gaze up at the night sky and see all the twinkling stars. She would often lay on her back in the grass and stare for hours, lost in wonder at how vast and mysterious the universe was.\n",
      "\n",
      "One night, as she was looking up at the stars, she noticed a bright light shining in the sky. It was different from any of the other stars she had seen before, and it seemed to be getting brighter and bigger by the minute.\n",
      "\n",
      "Lily was so fascinated by this light that she decided to do some research. She learned that the light was coming from the moon, which is Earth's only natural satellite. The moon was so close to Earth that it appeared to be much larger than it really was.\n",
      "\n",
      "As Lily continued to stare up at the moon, she noticed something strange happening. It seemed as though the moon was changing shape, from a crescent to a quarter to a gibbous and finally to a full moon.\n",
      "\n",
      "Lily was amazed by this phenomenon and decided to learn more about it. She discovered that the moon goes through different phases because of its orbit around Earth, which causes it to block out different amounts of sunlight.\n",
      "\n",
      "But that wasn't all. Lily also learned that stars are not just twinkling points of light in the sky, but they are actually distant suns, many of them much larger and brighter than our own sun. Some stars even have planets orbiting around them, just like our solar system.\n",
      "\n",
      "Lily was so fascinated by all of this new information that she spent every night gazing up at the sky, learning more and more about the wonders of the universe. She realized that there was so much more to explore and discover, and she couldn't wait to see what other mysteries lay hidden among the stars."
     ]
    }
   ],
   "source": [
    "prompt = \"Racconta una storia sulla luna e le stelle\"\n",
    "for chunk in llm.stream(prompt):\n",
    "    print(chunk.content, end=\"\", flush=True)"
   ]
  },
  {
   "cell_type": "markdown",
   "id": "4a663228",
   "metadata": {},
   "source": [
    "### PromptTemplates"
   ]
  },
  {
   "cell_type": "code",
   "execution_count": 32,
   "id": "6af3ad3e",
   "metadata": {},
   "outputs": [],
   "source": [
    "from langchain.prompts import PromptTemplate \n",
    "template = '''You are an expert vitologist. Write a few sentences about that virus {virus} in {language}'''\n",
    "prompt_template = PromptTemplate.from_template(template=template)\n",
    "\n",
    "prompt = prompt_template.format(virus='hiv', language='italian')"
   ]
  },
  {
   "cell_type": "code",
   "execution_count": 33,
   "id": "be54834c",
   "metadata": {},
   "outputs": [
    {
     "data": {
      "text/plain": [
       "'You are an expert vitologist. Write a few sentences about that virus hiv in italian'"
      ]
     },
     "execution_count": 33,
     "metadata": {},
     "output_type": "execute_result"
    }
   ],
   "source": [
    "prompt"
   ]
  },
  {
   "cell_type": "code",
   "execution_count": 35,
   "id": "4c5c3a9f",
   "metadata": {},
   "outputs": [
    {
     "name": "stdout",
     "output_type": "stream",
     "text": [
      " Il virus HIV, o Human Immunodeficiency Virus, è un virus che attacca e distrugge le cellule dell'immunosistema umano, causando la malattia dell'AIDS. È trasmesso principalmente attraverso il contatto sessuale non protetto, ma anche attraverso l'inoculazione di sangue infettato o attraverso la nascita da madre a figlio. Il virus è in grado di mutare rapidamente, rendendo difficile la creazione di farmaci efficaci per il trattamento.\n"
     ]
    }
   ],
   "source": [
    "llm = ChatOpenAI(\n",
    "        api_key='545454545',\n",
    "        base_url='http://localhost:8000/v1',\n",
    "        temperature=0\n",
    "    \n",
    "    )\n",
    "output = llm.invoke(prompt)\n",
    "print(output.content)"
   ]
  },
  {
   "cell_type": "markdown",
   "id": "f082790e",
   "metadata": {},
   "source": [
    "### ChatPromptTemplate"
   ]
  },
  {
   "cell_type": "code",
   "execution_count": 41,
   "id": "1c2a1284",
   "metadata": {},
   "outputs": [
    {
     "name": "stdout",
     "output_type": "stream",
     "text": [
      "[SystemMessage(content='You respond only in the JSON format.'), HumanMessage(content='Top 10 cities in  Italy by population order by population descending.')]\n"
     ]
    }
   ],
   "source": [
    "from langchain.prompts import ChatPromptTemplate, HumanMessagePromptTemplate\n",
    "from langchain_core.messages import SystemMessage\n",
    "\n",
    "chat_template = ChatPromptTemplate.from_messages(\n",
    "    [\n",
    "        SystemMessage(content = 'You respond only in the JSON format.'),\n",
    "        HumanMessagePromptTemplate.from_template('Top {n} cities in  {country} by population order by population descending.')\n",
    "    ]\n",
    ")\n",
    "\n",
    "messages = chat_template.format_messages(n = '10', country = 'Italy')\n",
    "print(messages)"
   ]
  },
  {
   "cell_type": "code",
   "execution_count": 42,
   "id": "0cdfc2b7",
   "metadata": {},
   "outputs": [
    {
     "name": "stdout",
     "output_type": "stream",
     "text": [
      " {\n",
      "\"cities\": [\n",
      "{\n",
      "\"name\": \"Milan\",\n",
      "\"population\": 2693847\n",
      "},\n",
      "{\n",
      "\"name\": \"Rome\",\n",
      "\"population\": 2833020\n",
      "},\n",
      "{\n",
      "\"name\": \"Naples\",\n",
      "\"population\": 2187553\n",
      "},\n",
      "{\n",
      "\"name\": \"Florence\",\n",
      "\"population\": 1946847\n",
      "},\n",
      "{\n",
      "\"name\": \"Torino\",\n",
      "\"population\": 1904423\n",
      "},\n",
      "{\n",
      "\"name\": \"Venice\",\n",
      "\"population\": 1509189\n",
      "},\n",
      "{\n",
      "\"name\": \"Genoa\",\n",
      "\"population\": 1567187\n",
      "},\n",
      "{\n",
      "\"name\": \"Bologna\",\n",
      "\"population\": 1087244\n",
      "},\n",
      "{\n",
      "\"name\": \"Pisa\",\n",
      "\"population\": 97734\n",
      "},\n",
      "{\n",
      "\"name\": \"Reggio Emilia\",\n",
      "\"population\": 92657\n",
      "}\n",
      "]\n",
      "}\n"
     ]
    }
   ],
   "source": [
    "llm = ChatOpenAI(\n",
    "        api_key='545454545',\n",
    "        base_url='http://localhost:8000/v1',\n",
    "        temperature=0\n",
    "    \n",
    "    )\n",
    "output = llm.invoke(messages)\n",
    "print(output.content)"
   ]
  },
  {
   "cell_type": "code",
   "execution_count": null,
   "id": "d2823357",
   "metadata": {},
   "outputs": [],
   "source": []
  },
  {
   "cell_type": "code",
   "execution_count": null,
   "id": "4e5a8c7f",
   "metadata": {},
   "outputs": [],
   "source": []
  }
 ],
 "metadata": {
  "kernelspec": {
   "display_name": "langchain_env",
   "language": "python",
   "name": "langchain_env"
  },
  "language_info": {
   "codemirror_mode": {
    "name": "ipython",
    "version": 3
   },
   "file_extension": ".py",
   "mimetype": "text/x-python",
   "name": "python",
   "nbconvert_exporter": "python",
   "pygments_lexer": "ipython3",
   "version": "3.12.3"
  }
 },
 "nbformat": 4,
 "nbformat_minor": 5
}
