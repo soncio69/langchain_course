{
 "cells": [
  {
   "cell_type": "markdown",
   "id": "05484293",
   "metadata": {},
   "source": [
    "### Langchain e llamacpp\n",
    "Questo notebook contiene un esempio di utilizzo di langchain invocando un modello \"locale\" grazie a llamacpp.\n",
    "\n",
    "E' necessario lanciare il server OPENAI utilizzando le istruzioni presenti nel repo llamacpp.\n",
    "\n",
    "Grazie a llamacpp è possibile simulare \"in locale\" un server compatibile con le API OpenAI (vedi http://localhost:8000/docs)"
   ]
  },
  {
   "cell_type": "code",
   "execution_count": 1,
   "id": "8abe7ddd",
   "metadata": {},
   "outputs": [],
   "source": [
    "from langchain_openai import ChatOpenAI"
   ]
  },
  {
   "cell_type": "code",
   "execution_count": 2,
   "id": "b3b483ab",
   "metadata": {},
   "outputs": [],
   "source": [
    "llm = ChatOpenAI(\n",
    "        api_key='545454545',\n",
    "        base_url='http://localhost:8000/v1'\n",
    "    )\n"
   ]
  },
  {
   "cell_type": "code",
   "execution_count": 3,
   "id": "25ad9685",
   "metadata": {},
   "outputs": [
    {
     "name": "stdout",
     "output_type": "stream",
     "text": [
      " Spiegando la meccanica quantistica significa spiegare come la matematica e le osservazioni scientifiche si coniugano per descrivere il comportamento dei sistemi fisici a livello atomico o subatomico. La meccanica quantistica è una teoria che descrive i processi fisici che coinvolgono particelle a livello atomico o subatomico, e che differenza i processi a livello classico, in cui i movimenti sono determinati da leggi che descrivono i moti continuo e determinato.\n",
      "\n",
      "La meccanica quantistica è stata sviluppata in tre età:\n",
      "\n",
      "1. Età atomica (1857-1927): nel 1857, l'atomista russa Dmitri Mendeleev propose che tutti gli elementi si dividessero in unità indivisibili, ovvero atomi. Nello stesso anno, l'inglese William Thomson scoprì che l'elettricità si trasformava in calore, che portò alla teoria dell'elettricità e della calore. Nel 1900, l'inglese J.J. Thomson scoprì l'esistenza degli isotopi, ovvero atomi che hanno lo stesso numero di particelle cariche ma differenti masse. Nel 1913, l'inglese Niels Bohr formulò l'interpretazione atomica della luce, che affermava che l'elettromagnetismo è una forma di radiazione che proviene dalla rotazione di atomi.\n",
      "2. Età quantistica (1925-1940): nel 1925, l'inglese Werner Heisenberg formulò l'equazione di Heisenberg, che affermava che la posizione e la velocità di una particella sono correlate in modo che non possono essere misurati simultaneamente. Nello stesso anno, l'inglese Erwin Schrödinger propose il modello di onde che si diffondono nella spazio, che descrive la natura probabilistica di particelle subatomiche. Nel 1927, l'inglese Arthur Holly Compton scoprì l'effetto Compton, che consiste nella diffusione di raggiuni in una direzione diversa da quella incidente a causa dell'interazione con i fotoni. Nel 1935, l'inglese Paul Dirac formulò l'equazione di Dirac, che descrive l'evoluzione temporale di una particella che interagisce con un campo elettromagnetico.\n",
      "3. Età relativistica (1940-1970): nel 1940, l'inglese Erwin Schrödinger formulò l'equazione di Schrödinger, che descrive l'evoluzione temporale di un sistema quantico. Nel 1947, l'inglese Richard Feynman e l'inglese Murray Perkins Tukey svilupparono l'interpretazione della teoria della quantità di azione, che descrive i processi fisici in termini di processi di probabilità. Nel 1957, l'inglese Abdus Salam scoprì l'interazione elettromagnetica forte, che portò alla scoperta dell'elemento protoneo (1964) e dell'elemento neutrono (1966). Nel 1964, l'inglese Stephen Hawking sviluppò la teoria delle strutture relativistiche, che descrive la natura spaziotemporale di particelle relativistiche. Nel 1970, l'inglese Sheldon Glashow, l'inglese Weinberg Steven e l'inglese Salam Abdus scoprirono l'interazione elettromagnetica debole, che portò alla scoperta dell'elemento quarks, ovvero le unità di base della materia.\n",
      "\n",
      "La meccanica quantistica ha dato vita a nuove discipline scientifiche, quali la fisica moderna, l'informatica quantistica, l'informatica classica, la chimica quantistica, l'astrofisica, l'informazione quantistica, l'informatica quantevolutiva, l'informatica quantum-classica, l'informatica quantistica classica, l'informatica quantistica quantum-meccanica, l'informatica quantum-relativistica, l'informatica relativistica, l'informatica relativo-classica, l'informatica relativo-quantistica, l'informatica relativo-quantum-meccanica, l'informatica relativo-quantum-relativistica, l'informatica relativo-quantum-meccanica-relativistica, l'informatica relativo-quantum-meccanica-quantistica, l'informatica relativo-quantum-meccanica-quantistica-relativistica, l'informatica relativo-quantum-meccanica-quantistica-relativistica, l'informatica relativo-quantum-meccanica-quantistica-quantistica-relativistica, l'informatica relativo-quantum-meccanica-quantistica-quantistica-relativistica-meccanica classica, l'informatica relativo-quantum-meccanica-quantistica-quantistica-relativistica-meccanica classica, l'informatica relativo-quantum-meccanica-quantistica-quantistica-relativistica-meccanica classica-meccanica classica, l'informatica relativo-quantum-meccanica-quantistica-quantistica-relativistica-meccanica classica-meccanica classica-meccanica classica, l'informatica relativo-quantum-meccanica-quantistica-quantistica-relativistica-meccanica classica-meccanica classica-meccanica classica-meccanica classica.\n",
      "\n",
      "La meccanica quantistica è ancora una teoria in sviluppo, che ha dato vita a molti problemi ancora da risolvere, quali l'interpretazione della teoria, l'interpretazione di Schrödinger, l'interpretazione di Heisenberg, l'interpretazione di Dirac, l'interpretazione di Feynman, l'interpretazione di Salam, l'interpretazione di Hawking, l'interpretazione di Glashow, l'interpretazione di Weinberg, l'interpretazione di Salam, l'interpretazione di Glashow, l'interpretazione di Weinberg, l'interpretazione di Salam, l'interpretazione di Glashow, l'interpretazione di Weinberg, l'interpretazione di Salam, l'interpretazione di Glashow, l'interpretazione di Weinberg, l'interpretazione di Salam, l'interpretazione di Glashow, l'interpretazione di Weinberg, l'interpretazione di Salam, l'interpretazione di Glashow, l'interpretazione di Weinberg, l'interpretazione di Salam, l'interpretazione di Glashow, l'interpretazione di Weinberg, l'interpretazione di Salam, l'interpretazione di Glashow, l'interpretazione di Weinberg, l'interpretazione di Salam, l'interpretazione di Glashow, l'interpretazione di Weinberg, l'interpretazione di Salam, l'interpretazione di Glashow, l'interpretazione di Weinberg, l'interpretazione di Salam, l'interpretazione di Glashow, l'interpretazione di Weinberg, l'interpretazione di Salam, l'interpretazione di Glashow, l'interpretazione di Weinberg, l'interpretazione di Salam, l'interpretazione di Glashow, l'interpretazione di Weinberg, l'interpretazione di Salam, l'interpretazione di Glashow, l'interpretazione di Weinberg, l'interpretazione di Salam, l'interpretazione di Glashow, l'interpretazione di Weinberg, l'interpretazione di Salam, l'interpretazione di Glashow, l'interpretazione di Weinberg, l'interpretazione di Salam, l'interpretazione di Glashow, l'interpretazione di\n"
     ]
    }
   ],
   "source": [
    "output = llm.invoke(\"Spiegami la meccanica quantistica\")\n",
    "print(output.content)"
   ]
  },
  {
   "cell_type": "code",
   "execution_count": 4,
   "id": "ff62ff40",
   "metadata": {},
   "outputs": [
    {
     "name": "stdout",
     "output_type": "stream",
     "text": [
      " La meccanica quantistica è una branca della fisica che descrive le proprietà dei corpi materiali e energetici, e i loro rapporti, utilizzando principi e metodi matematici come l'analisi matematica.\n"
     ]
    }
   ],
   "source": [
    "from langchain.schema import (\n",
    "    SystemMessage,\n",
    "    AIMessage,\n",
    "    HumanMessage)\n",
    "\n",
    "messages =[\n",
    "    SystemMessage(content=\"you are a fhisician and respond only in italian\"),\n",
    "    HumanMessage(content=\"Spiegami la meccanica quantistica\")\n",
    "]\n",
    "\n",
    "output = llm.invoke(messages)\n",
    "print(output.content)"
   ]
  },
  {
   "cell_type": "markdown",
   "id": "14307a79",
   "metadata": {},
   "source": [
    "### Streaming\n",
    "Per gestire la risposta con lo streaminig"
   ]
  },
  {
   "cell_type": "code",
   "execution_count": 5,
   "id": "380e7f62",
   "metadata": {},
   "outputs": [
    {
     "name": "stdout",
     "output_type": "stream",
     "text": [
      " Hello! I'm an AI language model, designed to help people find information and answer their questions. What would you like to know?"
     ]
    }
   ],
   "source": [
    "chunks = []\n",
    "async for chunk in llm.astream(\"hello. tell me something about yourself\"):\n",
    "    chunks.append(chunk)\n",
    "    print(chunk.content, end=\"\", flush=True)"
   ]
  },
  {
   "cell_type": "markdown",
   "id": "e6e57a1c",
   "metadata": {},
   "source": [
    "### Caching\n",
    "\n",
    "In memory cache"
   ]
  },
  {
   "cell_type": "code",
   "execution_count": 6,
   "id": "6383000d",
   "metadata": {},
   "outputs": [],
   "source": [
    "from langchain.globals import set_llm_cache\n",
    "from langchain_openai import OpenAI\n",
    "\n",
    "llm = OpenAI(\n",
    "        api_key='545454545',\n",
    "        base_url='http://localhost:8000/v1'\n",
    "    )"
   ]
  },
  {
   "cell_type": "code",
   "execution_count": 7,
   "id": "90018986",
   "metadata": {},
   "outputs": [
    {
     "name": "stdout",
     "output_type": "stream",
     "text": [
      "CPU times: user 168 ms, sys: 8.61 ms, total: 176 ms\n",
      "Wall time: 3.39 s\n"
     ]
    },
    {
     "data": {
      "text/plain": [
       "\". Why don't scientists trust atoms? Because they make up everything!\""
      ]
     },
     "execution_count": 7,
     "metadata": {},
     "output_type": "execute_result"
    }
   ],
   "source": [
    "%%time\n",
    "from langchain.cache import InMemoryCache\n",
    "set_llm_cache(InMemoryCache())\n",
    "\n",
    "prompt = 'Tell me a joke that a toddler can understand'\n",
    "llm.invoke(prompt)"
   ]
  },
  {
   "cell_type": "code",
   "execution_count": 8,
   "id": "83dee4f1",
   "metadata": {},
   "outputs": [
    {
     "name": "stdout",
     "output_type": "stream",
     "text": [
      "CPU times: user 138 µs, sys: 61 µs, total: 199 µs\n",
      "Wall time: 202 µs\n"
     ]
    },
    {
     "data": {
      "text/plain": [
       "\". Why don't scientists trust atoms? Because they make up everything!\""
      ]
     },
     "execution_count": 8,
     "metadata": {},
     "output_type": "execute_result"
    }
   ],
   "source": [
    "%%time\n",
    "llm.invoke(prompt)"
   ]
  },
  {
   "cell_type": "code",
   "execution_count": 9,
   "id": "044d4fda",
   "metadata": {},
   "outputs": [
    {
     "name": "stdout",
     "output_type": "stream",
     "text": [
      "CPU times: user 37.9 ms, sys: 23.3 ms, total: 61.2 ms\n",
      "Wall time: 60.8 ms\n"
     ]
    },
    {
     "data": {
      "text/plain": [
       "'. Why did the chicken cross the road? To get to the other side! Why did the tomato turn red? Because it saw the salad dressing!'"
      ]
     },
     "execution_count": 9,
     "metadata": {},
     "output_type": "execute_result"
    }
   ],
   "source": [
    "%%time\n",
    "from langchain.cache import SQLiteCache\n",
    "set_llm_cache(SQLiteCache(database_path=\".langchain.db\"))\n",
    "\n",
    "\n",
    "prompt = 'Tell me a joke that a toddler can understand'\n",
    "llm.invoke(prompt)"
   ]
  },
  {
   "cell_type": "code",
   "execution_count": 10,
   "id": "c18b3007",
   "metadata": {},
   "outputs": [
    {
     "name": "stdout",
     "output_type": "stream",
     "text": [
      "CPU times: user 1.25 ms, sys: 380 µs, total: 1.63 ms\n",
      "Wall time: 1.73 ms\n"
     ]
    },
    {
     "data": {
      "text/plain": [
       "'. Why did the chicken cross the road? To get to the other side! Why did the tomato turn red? Because it saw the salad dressing!'"
      ]
     },
     "execution_count": 10,
     "metadata": {},
     "output_type": "execute_result"
    }
   ],
   "source": [
    "%%time\n",
    "llm.invoke(prompt)"
   ]
  },
  {
   "cell_type": "markdown",
   "id": "e99517f1",
   "metadata": {},
   "source": [
    "### Streaming"
   ]
  },
  {
   "cell_type": "code",
   "execution_count": 11,
   "id": "4fb37176",
   "metadata": {},
   "outputs": [],
   "source": [
    "llm = ChatOpenAI(\n",
    "        api_key='545454545',\n",
    "        base_url='http://localhost:8000/v1'\n",
    "    )"
   ]
  },
  {
   "cell_type": "code",
   "execution_count": 12,
   "id": "620b7c24",
   "metadata": {},
   "outputs": [
    {
     "name": "stdout",
     "output_type": "stream",
     "text": [
      " Once upon a time, in a galaxy far away, there was a little raccoon named Rocky. He lived on a small planet called Earth with his family and friends. Rocky was always fascinated by the night sky, especially the moon and the stars.\n",
      "\n",
      "One night, Rocky's mother told him a story about the moon and the stars. She said that long ago, the moon was just a rock floating in space, but one day it was chosen to be the guardian of the night sky. The other stars were so jealous of the moon that they decided to challenge it to a race.\n",
      "\n",
      "The challenge was simple: whoever could run around the planet faster would be the winner. The stars were confident that they could win, but the moon was determined to prove them wrong.\n",
      "\n",
      "The race began, and the stars zoomed off into the night sky. But the moon was clever and used its gravity to pull itself closer to the earth, giving it an advantage. The stars started to slow down, but the moon kept going faster and faster until it crossed the finish line first.\n",
      "\n",
      "The other stars were shocked and embarrassed. They had underestimated the moon's determination and speed. From that day on, the moon was known as the fastest guardian of the night sky.\n",
      "\n",
      "But the story didn't end there. Every night, the stars would shine brightly in the sky, but they would always be careful not to challenge the moon again. And Rocky would look up at the night sky and marvel at the moon and the stars, knowing that anything is possible if you are determined and work hard enough.\n",
      "\n",
      "And so, the moon and the stars continued to watch over the earth, guiding its inhabitants through the night and reminding them of the importance of determination and hard work."
     ]
    }
   ],
   "source": [
    "prompt = \"Racconta una storia sulla luna e le stelle\"\n",
    "for chunk in llm.stream(prompt):\n",
    "    print(chunk.content, end=\"\", flush=True)"
   ]
  },
  {
   "cell_type": "markdown",
   "id": "4a663228",
   "metadata": {},
   "source": [
    "### PromptTemplates"
   ]
  },
  {
   "cell_type": "code",
   "execution_count": 13,
   "id": "6af3ad3e",
   "metadata": {},
   "outputs": [],
   "source": [
    "from langchain.prompts import PromptTemplate \n",
    "template = '''You are an expert vitologist. Write a few sentences about that virus {virus} in {language}'''\n",
    "prompt_template = PromptTemplate.from_template(template=template)\n",
    "\n",
    "prompt = prompt_template.format(virus='hiv', language='italian')"
   ]
  },
  {
   "cell_type": "code",
   "execution_count": 14,
   "id": "be54834c",
   "metadata": {},
   "outputs": [
    {
     "data": {
      "text/plain": [
       "'You are an expert vitologist. Write a few sentences about that virus hiv in italian'"
      ]
     },
     "execution_count": 14,
     "metadata": {},
     "output_type": "execute_result"
    }
   ],
   "source": [
    "prompt"
   ]
  },
  {
   "cell_type": "code",
   "execution_count": 15,
   "id": "4c5c3a9f",
   "metadata": {},
   "outputs": [
    {
     "name": "stdout",
     "output_type": "stream",
     "text": [
      " Il virus HIV, o Human Immunodeficiency Virus, è un virus che attacca e distrugge le cellule dell'immunosistema umano, causando la malattia dell'AIDS. È trasmesso principalmente attraverso il contatto sessuale non protetto, ma anche attraverso l'inoculazione di sangue infettato o attraverso la nascita da madre a figlio. Il virus è in grado di mutare rapidamente, rendendo difficile la creazione di farmaci efficaci per il trattamento.\n"
     ]
    }
   ],
   "source": [
    "llm = ChatOpenAI(\n",
    "        api_key='545454545',\n",
    "        base_url='http://localhost:8000/v1',\n",
    "        temperature=0\n",
    "    \n",
    "    )\n",
    "output = llm.invoke(prompt)\n",
    "print(output.content)"
   ]
  },
  {
   "cell_type": "markdown",
   "id": "f082790e",
   "metadata": {},
   "source": [
    "### ChatPromptTemplate"
   ]
  },
  {
   "cell_type": "code",
   "execution_count": 16,
   "id": "1c2a1284",
   "metadata": {},
   "outputs": [
    {
     "name": "stdout",
     "output_type": "stream",
     "text": [
      "[SystemMessage(content='You respond only in the JSON format.'), HumanMessage(content='Top 10 cities in  Italy by population order by population descending.')]\n"
     ]
    }
   ],
   "source": [
    "from langchain.prompts import ChatPromptTemplate, HumanMessagePromptTemplate\n",
    "from langchain_core.messages import SystemMessage\n",
    "\n",
    "chat_template = ChatPromptTemplate.from_messages(\n",
    "    [\n",
    "        SystemMessage(content = 'You respond only in the JSON format.'),\n",
    "        HumanMessagePromptTemplate.from_template('Top {n} cities in  {country} by population order by population descending.')\n",
    "    ]\n",
    ")\n",
    "\n",
    "messages = chat_template.format_messages(n = '10', country = 'Italy')\n",
    "print(messages)"
   ]
  },
  {
   "cell_type": "code",
   "execution_count": 42,
   "id": "0cdfc2b7",
   "metadata": {},
   "outputs": [
    {
     "name": "stdout",
     "output_type": "stream",
     "text": [
      " {\n",
      "\"cities\": [\n",
      "{\n",
      "\"name\": \"Milan\",\n",
      "\"population\": 2693847\n",
      "},\n",
      "{\n",
      "\"name\": \"Rome\",\n",
      "\"population\": 2833020\n",
      "},\n",
      "{\n",
      "\"name\": \"Naples\",\n",
      "\"population\": 2187553\n",
      "},\n",
      "{\n",
      "\"name\": \"Florence\",\n",
      "\"population\": 1946847\n",
      "},\n",
      "{\n",
      "\"name\": \"Torino\",\n",
      "\"population\": 1904423\n",
      "},\n",
      "{\n",
      "\"name\": \"Venice\",\n",
      "\"population\": 1509189\n",
      "},\n",
      "{\n",
      "\"name\": \"Genoa\",\n",
      "\"population\": 1567187\n",
      "},\n",
      "{\n",
      "\"name\": \"Bologna\",\n",
      "\"population\": 1087244\n",
      "},\n",
      "{\n",
      "\"name\": \"Pisa\",\n",
      "\"population\": 97734\n",
      "},\n",
      "{\n",
      "\"name\": \"Reggio Emilia\",\n",
      "\"population\": 92657\n",
      "}\n",
      "]\n",
      "}\n"
     ]
    }
   ],
   "source": [
    "llm = ChatOpenAI(\n",
    "        api_key='545454545',\n",
    "        base_url='http://localhost:8000/v1',\n",
    "        temperature=0\n",
    "    \n",
    "    )\n",
    "output = llm.invoke(messages)\n",
    "print(output.content)"
   ]
  },
  {
   "cell_type": "code",
   "execution_count": null,
   "id": "d2823357",
   "metadata": {},
   "outputs": [],
   "source": []
  },
  {
   "cell_type": "code",
   "execution_count": null,
   "id": "4e5a8c7f",
   "metadata": {},
   "outputs": [],
   "source": []
  }
 ],
 "metadata": {
  "kernelspec": {
   "display_name": "langchain_env",
   "language": "python",
   "name": "langchain_env"
  },
  "language_info": {
   "codemirror_mode": {
    "name": "ipython",
    "version": 3
   },
   "file_extension": ".py",
   "mimetype": "text/x-python",
   "name": "python",
   "nbconvert_exporter": "python",
   "pygments_lexer": "ipython3",
   "version": "3.12.3"
  }
 },
 "nbformat": 4,
 "nbformat_minor": 5
}
