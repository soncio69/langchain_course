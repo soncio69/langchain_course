{
 "cells": [
  {
   "cell_type": "markdown",
   "id": "f4cbe69a",
   "metadata": {},
   "source": [
    "Per applicazioni non è sufficiente utilizzare un LLM da solo ma è necessario combinare più componenti (step o azioni).<br>\n",
    "Lanchain fornisce un'interfaccia standard per creare catene di azioni. Esistono:\n",
    "\n",
    "- simple chain\n",
    "- sequential chain\n",
    "- custom chain"
   ]
  },
  {
   "cell_type": "markdown",
   "id": "3b9b0e7f",
   "metadata": {},
   "source": [
    "### Simple Chain"
   ]
  },
  {
   "cell_type": "code",
   "execution_count": 4,
   "id": "a8d53b97",
   "metadata": {},
   "outputs": [],
   "source": [
    "from langchain_openai import ChatOpenAI\n",
    "from langchain.prompts import PromptTemplate \n",
    "from langchain.chains import LLMChain"
   ]
  },
  {
   "cell_type": "code",
   "execution_count": 26,
   "id": "c04c4bd7",
   "metadata": {},
   "outputs": [
    {
     "name": "stdout",
     "output_type": "stream",
     "text": [
      "\n",
      "\n",
      "\u001b[1m> Entering new LLMChain chain...\u001b[0m\n",
      "Prompt after formatting:\n",
      "\u001b[32;1m\u001b[1;3mYou are an expert vitologist. Write a few sentences about that virus hiv in italian\u001b[0m\n",
      "\n",
      "\u001b[1m> Finished chain.\u001b[0m\n"
     ]
    },
    {
     "data": {
      "text/plain": [
       "{'virus': 'hiv',\n",
       " 'language': 'italian',\n",
       " 'text': \" Il virus HIV, o Human Immunodeficiency Virus, è un virus che attacca e distrugge le cellule dell'immunosistema umano, causando la malattia dell'AIDS (Sindrome dell'Immunodeficienza Scompensata). È trasmesso principalmente attraverso il contatto sessuale non protetto con il sperma infettato, ma anche attraverso l'inoculazione di sangue infettato, l'inoculazione di farmaci infettati e attraverso la trasmissione verticale da madre a figlio durante il parto.\"}"
      ]
     },
     "execution_count": 26,
     "metadata": {},
     "output_type": "execute_result"
    }
   ],
   "source": [
    "llm = ChatOpenAI(\n",
    "        api_key='545454545',\n",
    "        base_url='http://localhost:8000/v1',\n",
    "        temperature=0\n",
    "    )\n",
    "template = '''You are an expert vitologist. Write a few sentences about that virus {virus} in {language}'''\n",
    "prompt_template = PromptTemplate.from_template(template=template)\n",
    "\n",
    "chain = LLMChain(\n",
    "    llm=llm,\n",
    "    prompt=prompt_template,\n",
    "    verbose=True\n",
    ")\n",
    "\n",
    "output = chain.invoke({'virus':'hiv', 'language':'italian'})\n",
    "output"
   ]
  },
  {
   "cell_type": "markdown",
   "id": "9a966825",
   "metadata": {},
   "source": [
    "Per ricevere un input dall'utente su jupyter notebook!!!"
   ]
  },
  {
   "cell_type": "code",
   "execution_count": 18,
   "id": "79d79c61",
   "metadata": {},
   "outputs": [
    {
     "name": "stdout",
     "output_type": "stream",
     "text": [
      "caccadssd\n"
     ]
    },
    {
     "data": {
      "text/plain": [
       "'dssd'"
      ]
     },
     "execution_count": 18,
     "metadata": {},
     "output_type": "execute_result"
    }
   ],
   "source": [
    "cacca = input('cacca')\n",
    "cacca"
   ]
  },
  {
   "cell_type": "markdown",
   "id": "05b164f9",
   "metadata": {},
   "source": [
    "### Sequential Chain\n",
    "\n",
    "Consentono di effettuare chiamate ad uno più LLM concatenando l'output di una chiamata all'input della chiamata successiva.<br>\n",
    "Ci sono:\n",
    "- SimpleSequentialChain (singolo input e singolo output)\n",
    "- a general form of sequential chain"
   ]
  },
  {
   "cell_type": "code",
   "execution_count": 36,
   "id": "54dc099e",
   "metadata": {},
   "outputs": [],
   "source": [
    "from langchain_openai import ChatOpenAI\n",
    "from langchain.prompts import PromptTemplate \n",
    "from langchain.chains import LLMChain, SimpleSequentialChain\n",
    "\n",
    "llm1 = ChatOpenAI(\n",
    "        api_key='545454545',\n",
    "        base_url='http://localhost:8000/v1',\n",
    "        temperature=0.5\n",
    "    )\n",
    "\n",
    "template = '''You are an expert scientist and python programmer. \n",
    "            Write a function tha implements the concept of {concept}'''\n",
    "prompt_template1 = PromptTemplate.from_template(template=template)\n",
    "\n",
    "chain1 = LLMChain(\n",
    "    llm=llm1,\n",
    "    prompt=prompt_template1,\n",
    ")\n",
    "\n"
   ]
  },
  {
   "cell_type": "code",
   "execution_count": 37,
   "id": "2845c571",
   "metadata": {},
   "outputs": [],
   "source": [
    "llm2 = ChatOpenAI(\n",
    "        api_key='545454545',\n",
    "        base_url='http://localhost:8000/v1',\n",
    "        temperature=1.2\n",
    "    )\n",
    "prompt_template2 = PromptTemplate.from_template(template='''Given a python function {function}, describe it as detailed as possible''')\n",
    "\n",
    "chain2 = LLMChain(\n",
    "    llm=llm2,\n",
    "    prompt=prompt_template2,\n",
    ")"
   ]
  },
  {
   "cell_type": "code",
   "execution_count": 38,
   "id": "5d49fe31",
   "metadata": {},
   "outputs": [
    {
     "name": "stdout",
     "output_type": "stream",
     "text": [
      "\n",
      "\n",
      "\u001b[1m> Entering new SimpleSequentialChain chain...\u001b[0m\n",
      "\u001b[36;1m\u001b[1;3m Sure, here's a Python function that implements the concept of linear regression:\n",
      "```python\n",
      "import numpy as np\n",
      "\n",
      "def linear_regression(X, y):\n",
      "    \"\"\"\n",
      "    Linear regression function for predicting y values based on X values.\n",
      "    \"\"\"\n",
      "    # Check if X and y have the same number of rows\n",
      "    if X.shape[0] != y.shape[0]:\n",
      "        raise ValueError(\"X and y must have the same number of rows\")\n",
      "    \n",
      "    # Fit the model using scikit-learn\n",
      "    model = np.polyfit(X, y, 1)\n",
      "    \n",
      "    # Predict y values using the fitted model\n",
      "    y_pred = model * X\n",
      "    \n",
      "    return y_pred\n",
      "```\n",
      "This function takes in two arguments: `X`, which is a numpy array containing the independent variable values, and `y`, which is a numpy array containing the dependent variable values. The function first checks if `X` and `y` have the same number of rows. If not, it raises a ValueError with an appropriate error message.\n",
      "\n",
      "Next, the function fits a linear model to the data using `np.polyfit()`, which fits a polynomial of degree `1` (i.e., a straight line) to the data. Finally, the function uses the fitted model to predict the dependent variable values using `model * X`.\n",
      "\n",
      "Note that this function assumes that `X` and `y` have already been preprocessed (e.g., scaled) to ensure that the model is well-behaved. If not, additional preprocessing may be necessary to improve the accuracy of the predictions.\u001b[0m\n",
      "\u001b[33;1m\u001b[1;3m Certainly! Here's a detailed explanation of the `linear_regression` function in Python:\n",
      "\n",
      "The function takes in two arguments: `X`, which is a numpy array containing the independent variable values, and `y`, which is a numpy array containing the dependent variable values. These values can be of any numerical type (e.g., floats, integers) and should be sorted in ascending order. The function returns a numpy array containing predicted values of the dependent variable using the fitted model.\n",
      "\n",
      "The first check performed by the function is to ensure that `X` and `y` have the same number of rows. This is necessary because linear regression models require both independent and dependent variables to have the same length. If the two arrays have different lengths, an error message will be raised and the function will not proceed.\n",
      "\n",
      "Next, the function fits a linear model to the data using `np.polyfit()`, which is a popular Python library used for machine learning and data analysis. This function fits a polynomial of degree `1`, which means it fits a straight line to the data. The polynomial degree can be any integer value, but `1` is the most common choice for linear regression because it assumes a linear relationship between the independent and dependent variables.\n",
      "\n",
      "The `np.polyfit()` function returns an array of coefficients that define the polynomial equation that best fits the data. These coefficients can be used to calculate predicted values of the dependent variable for any values of the independent variable. In this case, the function only fits a polynomial of degree `1`, so there is only one coefficient. This coefficient is then used to predict the dependent variable values using `model * X`.\n",
      "\n",
      "The final line of the code returns these predicted values as a new numpy array. This predicted array can be used for further analysis or visualization of the data.\n",
      "\n",
      "It's important to note that this implementation of linear regression assumes that there is a linear relationship between the independent and dependent variables. If there is no linear relationship, then this function may not produce accurate predictions. In addition, this function assumes that `X` and `y` have already been preprocessed (e.g., scaled) to ensure that the model is well-behaved. If not, additional preprocessing may be necessary to improve the accuracy of the predictions.\u001b[0m\n",
      "\n",
      "\u001b[1m> Finished chain.\u001b[0m\n"
     ]
    },
    {
     "data": {
      "text/plain": [
       "{'input': 'linear regression',\n",
       " 'output': \" Certainly! Here's a detailed explanation of the `linear_regression` function in Python:\\n\\nThe function takes in two arguments: `X`, which is a numpy array containing the independent variable values, and `y`, which is a numpy array containing the dependent variable values. These values can be of any numerical type (e.g., floats, integers) and should be sorted in ascending order. The function returns a numpy array containing predicted values of the dependent variable using the fitted model.\\n\\nThe first check performed by the function is to ensure that `X` and `y` have the same number of rows. This is necessary because linear regression models require both independent and dependent variables to have the same length. If the two arrays have different lengths, an error message will be raised and the function will not proceed.\\n\\nNext, the function fits a linear model to the data using `np.polyfit()`, which is a popular Python library used for machine learning and data analysis. This function fits a polynomial of degree `1`, which means it fits a straight line to the data. The polynomial degree can be any integer value, but `1` is the most common choice for linear regression because it assumes a linear relationship between the independent and dependent variables.\\n\\nThe `np.polyfit()` function returns an array of coefficients that define the polynomial equation that best fits the data. These coefficients can be used to calculate predicted values of the dependent variable for any values of the independent variable. In this case, the function only fits a polynomial of degree `1`, so there is only one coefficient. This coefficient is then used to predict the dependent variable values using `model * X`.\\n\\nThe final line of the code returns these predicted values as a new numpy array. This predicted array can be used for further analysis or visualization of the data.\\n\\nIt's important to note that this implementation of linear regression assumes that there is a linear relationship between the independent and dependent variables. If there is no linear relationship, then this function may not produce accurate predictions. In addition, this function assumes that `X` and `y` have already been preprocessed (e.g., scaled) to ensure that the model is well-behaved. If not, additional preprocessing may be necessary to improve the accuracy of the predictions.\"}"
      ]
     },
     "execution_count": 38,
     "metadata": {},
     "output_type": "execute_result"
    }
   ],
   "source": [
    "overall_chain = SimpleSequentialChain(chains=[chain1, chain2], verbose=True)\n",
    "overall_chain.invoke('linear regression')"
   ]
  },
  {
   "cell_type": "code",
   "execution_count": null,
   "id": "08cc058b",
   "metadata": {},
   "outputs": [],
   "source": []
  }
 ],
 "metadata": {
  "kernelspec": {
   "display_name": "Python [conda env:langchain_env]",
   "language": "python",
   "name": "conda-env-langchain_env-py"
  },
  "language_info": {
   "codemirror_mode": {
    "name": "ipython",
    "version": 3
   },
   "file_extension": ".py",
   "mimetype": "text/x-python",
   "name": "python",
   "nbconvert_exporter": "python",
   "pygments_lexer": "ipython3",
   "version": "3.12.3"
  }
 },
 "nbformat": 4,
 "nbformat_minor": 5
}
