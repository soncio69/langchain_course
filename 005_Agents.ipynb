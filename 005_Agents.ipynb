{
 "cells": [
  {
   "cell_type": "markdown",
   "id": "03967efc",
   "metadata": {},
   "source": [
    "Consentono di integrare LLM con altri tool specifici per determinati task (ad es. calcolatrice, motore di ricerca, eseguire codice, ecc).\n",
    "\n",
    "Langchain dispone di Tools che consentono di integrare LLMs consentendo l'accesso da parte di questi a :\n",
    "- motori di ricerca\n",
    "- database\n",
    "- API\n",
    "- ecc"
   ]
  },
  {
   "cell_type": "markdown",
   "id": "1c977ad3",
   "metadata": {},
   "source": [
    "Iniziamo da un search tool: Duckduckgo e Wikipedia"
   ]
  },
  {
   "cell_type": "code",
   "execution_count": 2,
   "id": "ff317d04",
   "metadata": {},
   "outputs": [
    {
     "name": "stdout",
     "output_type": "stream",
     "text": [
      "Note: you may need to restart the kernel to use updated packages.\n"
     ]
    }
   ],
   "source": [
    "pip install -q duckduckgo-search"
   ]
  },
  {
   "cell_type": "code",
   "execution_count": 9,
   "id": "f8c42766",
   "metadata": {},
   "outputs": [
    {
     "data": {
      "text/plain": [
       "\"Roberto Baggio was born on February 18, 1967, in Caldogno, Italy. He showed early talent in soccer and joined the Vicenza youth team at the age of 13. Baggio's Iconic Jersey Number. Throughout his career, Baggio was known for wearing the number 10 jersey, which became synonymous with his name. This number is often associated with creative and ... Roberto Baggio was born on February 18, 1967, in Caldogno, a small Italian town. The sixth of eight siblings, Baggio's passion for football was evident from a young age. Driven by a deep love for the game, he often played with a fervent zest that set him apart from his peers. Former Italian professional soccer player Roberto Baggio was born in Caldogno, Italy, on 18 February 1967, making Aquarius his zodiac sign. He played in various attacking positions , and is still today regarded as one of the best soccer players of all time; Roberto was voted #4 in the internet poll FIFA Player of the Century in 1999, and was ... Roberto Baggio was born in Caldogno, Veneto, Italy on February 18, 1967, to Florindo Baggio and Matilde Maggio. He was the sixth of the family's eight offspring. Early on, Roberto Baggio's exceptional football abilities as a player were acknowledged. Baggio was taken up by his local club Caldogno's youth team when he was only nine years ... Known for his creativity, technical skill, and scoring ability, Baggio left an indelible mark on the world of football. Below are 30 facts that highlight the career and achievements of Roberto Baggio. Roberto Baggio was born on February 18, 1967, in Caldogno, Veneto, Italy. He began his professional football career with Vicenza in Serie C1 in 1982.\""
      ]
     },
     "execution_count": 9,
     "metadata": {},
     "output_type": "execute_result"
    }
   ],
   "source": [
    "from langchain.tools import DuckDuckGoSearchRun\n",
    "\n",
    "search = DuckDuckGoSearchRun()\n",
    "\n",
    "output = search.invoke(\"When was Roberto Baggio born?\")\n",
    "output"
   ]
  },
  {
   "cell_type": "code",
   "execution_count": 10,
   "id": "b0a4cfd4",
   "metadata": {},
   "outputs": [
    {
     "data": {
      "text/plain": [
       "'duckduckgo_search'"
      ]
     },
     "execution_count": 10,
     "metadata": {},
     "output_type": "execute_result"
    }
   ],
   "source": [
    "search.name"
   ]
  },
  {
   "cell_type": "code",
   "execution_count": 11,
   "id": "1d230ee7",
   "metadata": {},
   "outputs": [
    {
     "data": {
      "text/plain": [
       "'A wrapper around DuckDuckGo Search. Useful for when you need to answer questions about current events. Input should be a search query.'"
      ]
     },
     "execution_count": 11,
     "metadata": {},
     "output_type": "execute_result"
    }
   ],
   "source": [
    "search.description"
   ]
  },
  {
   "cell_type": "markdown",
   "id": "ca2fe85c",
   "metadata": {},
   "source": [
    "E' possibile a richiedere un output strutturato come quello offerto dai motori di ricerca con i risultati strutturati con: \n",
    "- snippet\n",
    "- description\n",
    "- link"
   ]
  },
  {
   "cell_type": "code",
   "execution_count": 13,
   "id": "cbf6ca2b",
   "metadata": {},
   "outputs": [
    {
     "data": {
      "text/plain": [
       "\"[snippet: Roberto Baggio was born on February 18, 1967, in Caldogno, Italy. He showed early talent in soccer and joined the Vicenza youth team at the age of 13. Baggio's Iconic Jersey Number. Throughout his career, Baggio was known for wearing the number 10 jersey, which became synonymous with his name. This number is often associated with creative and ..., title: 15 Facts About Roberto Baggio, link: https://facts.net/history/people/15-facts-about-roberto-baggio/], [snippet: Roberto Baggio was born on February 18, 1967, in Caldogno, a small Italian town. The sixth of eight siblings, Baggio's passion for football was evident from a young age. Driven by a deep love for the game, he often played with a fervent zest that set him apart from his peers., title: Roberto Baggio: A Legendary Football Icon's ... - The Football Educator, link: https://thefootballeducator.com/roberto-baggio/], [snippet: Former Italian professional soccer player Roberto Baggio was born in Caldogno, Italy, on 18 February 1967, making Aquarius his zodiac sign. He played in various attacking positions , and is still today regarded as one of the best soccer players of all time; Roberto was voted #4 in the internet poll FIFA Player of the Century in 1999, and was ..., title: The Life and Career of Roberto Baggio: Age, Siblings, Height, link: https://biographytribune.com/the-life-and-career-of-roberto-baggio-age-siblings-height/], [snippet: Known for his creativity, technical skill, and scoring ability, Baggio left an indelible mark on the world of football. Below are 30 facts that highlight the career and achievements of Roberto Baggio. Roberto Baggio was born on February 18, 1967, in Caldogno, Veneto, Italy. He began his professional football career with Vicenza in Serie C1 in 1982., title: 30 Fascinating Facts About Roberto Baggio - NSF - Magazine, link: https://www.needsomefun.net/30-fascinating-facts-about-roberto-baggio/]\""
      ]
     },
     "execution_count": 13,
     "metadata": {},
     "output_type": "execute_result"
    }
   ],
   "source": [
    "from langchain.tools import DuckDuckGoSearchResults\n",
    "\n",
    "search = DuckDuckGoSearchResults()\n",
    "output = search.run(\"When was Roberto Baggio born?\")\n",
    "output"
   ]
  },
  {
   "cell_type": "markdown",
   "id": "907fcbd3",
   "metadata": {},
   "source": [
    "Per avere un maggior controllo sull'invocazione al motore di ricerca"
   ]
  },
  {
   "cell_type": "code",
   "execution_count": 16,
   "id": "98dd62e5",
   "metadata": {},
   "outputs": [
    {
     "data": {
      "text/plain": [
       "\"[snippet: Di seguito il calendario completo, il programma dettagliato, gli orari, il palinsesto tv e streaming delle prossime partite dell'Italia nel torneo di volley maschile alle Olimpiadi di Parigi..., title: Volley, quando gioca l'Italia le prossime partite? Date, orari ..., link: https://www.oasport.it/2024/07/volley-quando-gioca-litalia-le-prossime-partite-date-orari-avversarie-tv/], [snippet: Di seguito il calendario completo, il programma dettagliato, gli orari, il palinsesto tv e streaming delle partite dell'Italia nella Nations League 2024 di volley maschile., title: Calendario Nations League volley maschile 2024: orari e date di tutte ..., link: https://www.oasport.it/2024/05/calendario-nations-league-volley-maschile-2024-orari-e-date-di-tutte-le-partite-dellitalia-dove-vederla-in-tv/], [snippet: L'Italia di Fefè De Giorgi vince la seconda partita nella Volleyball Nations League 2024: batte l'Iran in tre set. Scopri com'è andato il match dell'Italvolley e dove vedere la prossima partita degli azzurri della pallavolo contro l'Iran., title: Italia maschile in VNL: Giorno e orario della prossima partita di ..., link: https://olympics.com/it/notizie/italia-giappone-vnl-2024-pallavolo-maschile-orario-risultati], [snippet: È in arrivo la seconda tappa per la nazionale maschile italiana di volley nella Nations League 2024. I Campioni del Mondo in carica, dopo le quattro vittorie nelle prime quattro partite, non..., title: Volley, quando gioca l'Italia in Nations League: orari, tv, calendario ..., link: https://www.oasport.it/2024/06/volley-quando-gioca-litalia-in-nations-league-orari-tv-calendario-partite-con-francia-usa-cuba-e-olanda/]\""
      ]
     },
     "execution_count": 16,
     "metadata": {},
     "output_type": "execute_result"
    }
   ],
   "source": [
    "from langchain_community.utilities import DuckDuckGoSearchAPIWrapper\n",
    "\n",
    "wrapper = DuckDuckGoSearchAPIWrapper(region=\"it-it\", max_results=3, safesearch=\"moderate\", )\n",
    "search = DuckDuckGoSearchResults(api_wrapper=wrapper, source=\"news\")\n",
    "output = search.run(\"Qual'è la prossima partita della nazionale di volley maschile\")\n",
    "output"
   ]
  },
  {
   "cell_type": "markdown",
   "id": "7528ef78",
   "metadata": {},
   "source": [
    "Per convertire questo output in modo strutturato, utilizzo le regexp"
   ]
  },
  {
   "cell_type": "code",
   "execution_count": 21,
   "id": "771fec8a",
   "metadata": {},
   "outputs": [
    {
     "name": "stdout",
     "output_type": "stream",
     "text": [
      "Snippet : Di seguito il calendario completo, il programma dettagliato, gli orari, il palinsesto tv e streaming delle prossime partite dell'Italia nel torneo di volley maschile alle Olimpiadi di Parigi...\n",
      " Title : Volley, quando gioca l'Italia le prossime partite? Date, orari ...\n",
      " Link : https://www.oasport.it/2024/07/volley-quando-gioca-litalia-le-prossime-partite-date-orari-avversarie-tv/\n",
      "--------------------------------------------------\n",
      "Snippet : Di seguito il calendario completo, il programma dettagliato, gli orari, il palinsesto tv e streaming delle partite dell'Italia nella Nations League 2024 di volley maschile.\n",
      " Title : Calendario Nations League volley maschile 2024: orari e date di tutte ...\n",
      " Link : https://www.oasport.it/2024/05/calendario-nations-league-volley-maschile-2024-orari-e-date-di-tutte-le-partite-dellitalia-dove-vederla-in-tv/\n",
      "--------------------------------------------------\n",
      "Snippet : L'Italia di Fefè De Giorgi vince la seconda partita nella Volleyball Nations League 2024: batte l'Iran in tre set. Scopri com'è andato il match dell'Italvolley e dove vedere la prossima partita degli azzurri della pallavolo contro l'Iran.\n",
      " Title : Italia maschile in VNL: Giorno e orario della prossima partita di ...\n",
      " Link : https://olympics.com/it/notizie/italia-giappone-vnl-2024-pallavolo-maschile-orario-risultati\n",
      "--------------------------------------------------\n"
     ]
    }
   ],
   "source": [
    "import re\n",
    "pattern = r'snippet: (.*?), title: (.*?), link: (.*?)\\],'\n",
    "\n",
    "matches = re.findall(pattern, output, re.DOTALL) # DOTALL serve per far si che \".\" \n",
    "                                                 # includa tutti i caratteri compresa \\n\n",
    "\n",
    "for snippet, title, link in matches:\n",
    "    print(f'Snippet : {snippet}\\n Title : {title}\\n Link : {link}')\n",
    "    print('-'* 50)"
   ]
  },
  {
   "cell_type": "markdown",
   "id": "12fa1258",
   "metadata": {},
   "source": [
    "Un altro tool molto utile è wikipedia tool"
   ]
  },
  {
   "cell_type": "code",
   "execution_count": 22,
   "id": "33d806cd",
   "metadata": {},
   "outputs": [],
   "source": [
    "!pip install -q wikipedia"
   ]
  },
  {
   "cell_type": "code",
   "execution_count": 27,
   "id": "92c85ec4",
   "metadata": {},
   "outputs": [
    {
     "data": {
      "text/plain": [
       "\"Page: Roberto Baggio\\nSummary: Roberto Baggio (Caldogno, 18 febbraio 1967) è un ex calciatore italiano, di ruolo attaccante o centrocampista, vicecampione del mondo con la nazionale italiana nel 1994.\\nSoprannominato Raffaello da Gianni Agnelli per l'eleganza dello stile di gioco, e colloquialmente noto come Divin Codino per la caratteristica acconciatura, è ritenuto uno dei migliori giocatori nella storia del calcio. Occupa la 16ª posizione (primo italiano) nella speciale classifica dei migliori \""
      ]
     },
     "execution_count": 27,
     "metadata": {},
     "output_type": "execute_result"
    }
   ],
   "source": [
    "from langchain_community.tools import WikipediaQueryRun\n",
    "from langchain_community.utilities import WikipediaAPIWrapper\n",
    "\n",
    "api_wrapper = WikipediaAPIWrapper(top_k_results=1, doc_content_chars_max=500, lang='it')\n",
    "wiki = WikipediaQueryRun(api_wrapper=api_wrapper)\n",
    "wiki.invoke({'query' : 'Baggio'})\n"
   ]
  },
  {
   "cell_type": "code",
   "execution_count": null,
   "id": "e589d4ce",
   "metadata": {},
   "outputs": [],
   "source": []
  }
 ],
 "metadata": {
  "kernelspec": {
   "display_name": "Python [conda env:langchain_env]",
   "language": "python",
   "name": "conda-env-langchain_env-py"
  },
  "language_info": {
   "codemirror_mode": {
    "name": "ipython",
    "version": 3
   },
   "file_extension": ".py",
   "mimetype": "text/x-python",
   "name": "python",
   "nbconvert_exporter": "python",
   "pygments_lexer": "ipython3",
   "version": "3.12.3"
  }
 },
 "nbformat": 4,
 "nbformat_minor": 5
}
